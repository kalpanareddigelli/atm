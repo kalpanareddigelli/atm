{
  "nbformat": 4,
  "nbformat_minor": 0,
  "metadata": {
    "colab": {
      "provenance": [],
      "include_colab_link": true
    },
    "kernelspec": {
      "name": "python3",
      "display_name": "Python 3"
    },
    "language_info": {
      "name": "python"
    }
  },
  "cells": [
    {
      "cell_type": "markdown",
      "metadata": {
        "id": "view-in-github",
        "colab_type": "text"
      },
      "source": [
        "<a href=\"https://colab.research.google.com/github/kalpanareddigelli/atm/blob/master/Pyspark_L1_(1).ipynb\" target=\"_parent\"><img src=\"https://colab.research.google.com/assets/colab-badge.svg\" alt=\"Open In Colab\"/></a>"
      ]
    },
    {
      "cell_type": "code",
      "execution_count": 1,
      "metadata": {
        "colab": {
          "base_uri": "https://localhost:8080/"
        },
        "id": "KwxI17QJAYw_",
        "outputId": "f6e2ed40-f4e8-4855-a9bc-2adc19b5b1d2"
      },
      "outputs": [
        {
          "output_type": "stream",
          "name": "stdout",
          "text": [
            "Looking in indexes: https://pypi.org/simple, https://us-python.pkg.dev/colab-wheels/public/simple/\n",
            "Collecting pyspark\n",
            "  Downloading pyspark-3.4.0.tar.gz (310.8 MB)\n",
            "\u001b[2K     \u001b[90m━━━━━━━━━━━━━━━━━━━━━━━━━━━━━━━━━━━━━━━\u001b[0m \u001b[32m310.8/310.8 MB\u001b[0m \u001b[31m3.5 MB/s\u001b[0m eta \u001b[36m0:00:00\u001b[0m\n",
            "\u001b[?25h  Preparing metadata (setup.py) ... \u001b[?25l\u001b[?25hdone\n",
            "Requirement already satisfied: py4j==0.10.9.7 in /usr/local/lib/python3.10/dist-packages (from pyspark) (0.10.9.7)\n",
            "Building wheels for collected packages: pyspark\n",
            "  Building wheel for pyspark (setup.py) ... \u001b[?25l\u001b[?25hdone\n",
            "  Created wheel for pyspark: filename=pyspark-3.4.0-py2.py3-none-any.whl size=311317130 sha256=730ba7ca7378b798dfeb2e381aa540aba5084b3d40f0b827c172396f9684e103\n",
            "  Stored in directory: /root/.cache/pip/wheels/7b/1b/4b/3363a1d04368e7ff0d408e57ff57966fcdf00583774e761327\n",
            "Successfully built pyspark\n",
            "Installing collected packages: pyspark\n",
            "Successfully installed pyspark-3.4.0\n"
          ]
        }
      ],
      "source": [
        "#Pyspark : It is a framework that runs on the top of Apache Spark and it is used to process Big Data.\n",
        "#Batch Processing : Data would be coming Hourly, Daily, Weekly, Monthly, Yearly\n",
        "#Advantages : You don't missout on any data, why because there is a time difference between one and other set of data.\n",
        "#Streaming : In this data is coming probably every second or every minute. \n",
        "#If a second's data is lost : 30 entries , sets of data.\n",
        "\n",
        "#Installation of Pyspark -\n",
        "!pip install pyspark"
      ]
    },
    {
      "cell_type": "code",
      "source": [
        "import pyspark\n",
        "from pyspark.sql import SparkSession\n",
        "from pyspark.sql import functions as F"
      ],
      "metadata": {
        "id": "VeDusvZVCrX5"
      },
      "execution_count": 2,
      "outputs": []
    },
    {
      "cell_type": "code",
      "source": [
        "#If you want to build a code or process any dataset in pyspark, you would require a session for that\n",
        "#which is called as SparkSession"
      ],
      "metadata": {
        "id": "lIRHHgcSCu49"
      },
      "execution_count": null,
      "outputs": []
    },
    {
      "cell_type": "code",
      "source": [
        "#Step 1 : Create a SparkSession\n",
        "spark = SparkSession.builder.appName(\"PysparkL1\").getOrCreate()"
      ],
      "metadata": {
        "id": "_L2DAf3KDKvR"
      },
      "execution_count": 3,
      "outputs": []
    },
    {
      "cell_type": "code",
      "source": [
        "#Dataset => DataFrames \n",
        "df = spark.createDataFrame(\n",
        "    [\n",
        "        (\"Spark\", 25000, 50),\n",
        "        (\"Scala\", 50000, 100),\n",
        "        (\"PHP\", 75000, 120)\n",
        "    ],\n",
        "    [\"Language Name\",\"Price\",\"Days\"]\n",
        ")\n",
        "\n",
        "\n",
        "df1 = spark.createDataFrame(\n",
        "    [\n",
        "        (\"kalpana\", \"USA\", 3.2, \"ASU\", 100000),\n",
        "        (\"deepak\", \"USA\", 3.8, \"ASU\", 200000),\n",
        "        (\"isha\", \"india\", 20.0, \"school\", 1000 ),\n",
        "        (\"diya\", \"india\", 3.0, \"school\", 10000),\n",
        "        (\"jack\", \"china\", 9.1, \"clg\", 2900),\n",
        "        (\"jame\", \"nepal\", 9.4, \"clg\", 20000)\n",
        "   ],\n",
        "   [\"name\", \"country\", \"GPA\", \"edu\", \"salary\"]\n",
        "\n",
        ")\n",
        "\n"
      ],
      "metadata": {
        "id": "4fR55d6SD-zy"
      },
      "execution_count": 11,
      "outputs": []
    },
    {
      "cell_type": "code",
      "source": [
        "df1.show(truncate= False)"
      ],
      "metadata": {
        "colab": {
          "base_uri": "https://localhost:8080/"
        },
        "id": "w3suOQ1Qr-cH",
        "outputId": "b5892efe-8ea1-40a6-94cc-84b15ac36d46"
      },
      "execution_count": 14,
      "outputs": [
        {
          "output_type": "stream",
          "name": "stdout",
          "text": [
            "+-------+-------+----+------+------+\n",
            "|name   |country|GPA |edu   |salary|\n",
            "+-------+-------+----+------+------+\n",
            "|kalpana|USA    |3.2 |ASU   |100000|\n",
            "|deepak |USA    |3.8 |ASU   |200000|\n",
            "|isha   |india  |20.0|school|1000  |\n",
            "|diya   |india  |3.0 |school|10000 |\n",
            "|jack   |china  |9.1 |clg   |2900  |\n",
            "|jame   |nepal  |9.4 |clg   |20000 |\n",
            "+-------+-------+----+------+------+\n",
            "\n"
          ]
        }
      ]
    },
    {
      "cell_type": "code",
      "source": [
        "#Show : This is a function for dataframe which is used to display the contents of the dataframe.\n",
        "\n",
        "#Truncate = False : You are forcing pyspark to display the whole dataframe without any cuts or breaks. # df.show(truncate=False)\n",
        "#Int argument : It allows you to display only that number of rows in your output. # df.show(1)\n",
        "#Show has a return type of None\n",
        "df.show(truncate=False)"
      ],
      "metadata": {
        "colab": {
          "base_uri": "https://localhost:8080/"
        },
        "id": "WOtXIa1jGIP-",
        "outputId": "adf3c371-1419-4779-a89b-d4e8f278d797"
      },
      "execution_count": null,
      "outputs": [
        {
          "output_type": "stream",
          "name": "stdout",
          "text": [
            "+-------------+-----+----+\n",
            "|Language Name|Price|Days|\n",
            "+-------------+-----+----+\n",
            "|Spark        |25000|50  |\n",
            "|Scala        |50000|100 |\n",
            "|PHP          |75000|120 |\n",
            "+-------------+-----+----+\n",
            "\n"
          ]
        }
      ]
    },
    {
      "cell_type": "code",
      "source": [
        "df1.show(truncate= False)\n",
        "\n",
        "df1.printSchema()"
      ],
      "metadata": {
        "colab": {
          "base_uri": "https://localhost:8080/"
        },
        "id": "mhauKQ42tbSu",
        "outputId": "db4898a4-f9c5-4bee-ee36-cf0da5bd4de9"
      },
      "execution_count": 41,
      "outputs": [
        {
          "output_type": "stream",
          "name": "stdout",
          "text": [
            "+-------+-------+----+------+------+\n",
            "|name   |country|GPA |edu   |salary|\n",
            "+-------+-------+----+------+------+\n",
            "|kalpana|USA    |3.2 |ASU   |100000|\n",
            "|deepak |USA    |3.8 |ASU   |200000|\n",
            "|isha   |india  |20.0|school|1000  |\n",
            "|diya   |india  |3.0 |school|10000 |\n",
            "|jack   |china  |9.1 |clg   |2900  |\n",
            "|jame   |nepal  |9.4 |clg   |20000 |\n",
            "+-------+-------+----+------+------+\n",
            "\n",
            "root\n",
            " |-- name: string (nullable = true)\n",
            " |-- country: string (nullable = true)\n",
            " |-- GPA: double (nullable = true)\n",
            " |-- edu: string (nullable = true)\n",
            " |-- salary: long (nullable = true)\n",
            "\n"
          ]
        }
      ]
    },
    {
      "cell_type": "code",
      "source": [
        "selectdf1 = df1.select(\"name\", \"GPA\", \"salary\")\n",
        "selectdf1.printSchema()\n",
        "\n",
        "selectdf1 = df1.select(\"name\", \"GPA\").show()\n",
        "\n",
        "\n",
        "\n",
        "\n"
      ],
      "metadata": {
        "colab": {
          "base_uri": "https://localhost:8080/",
          "height": 512
        },
        "id": "aCYnTSk3tdSO",
        "outputId": "ebbbe7c7-6b32-44a5-8dfb-351b55984166"
      },
      "execution_count": 43,
      "outputs": [
        {
          "output_type": "stream",
          "name": "stdout",
          "text": [
            "root\n",
            " |-- name: string (nullable = true)\n",
            " |-- GPA: double (nullable = true)\n",
            " |-- salary: long (nullable = true)\n",
            "\n",
            "+-------+----+\n",
            "|   name| GPA|\n",
            "+-------+----+\n",
            "|kalpana| 3.2|\n",
            "| deepak| 3.8|\n",
            "|   isha|20.0|\n",
            "|   diya| 3.0|\n",
            "|   jack| 9.1|\n",
            "|   jame| 9.4|\n",
            "+-------+----+\n",
            "\n"
          ]
        },
        {
          "output_type": "error",
          "ename": "AttributeError",
          "evalue": "ignored",
          "traceback": [
            "\u001b[0;31m---------------------------------------------------------------------------\u001b[0m",
            "\u001b[0;31mAttributeError\u001b[0m                            Traceback (most recent call last)",
            "\u001b[0;32m<ipython-input-43-acc9bf3019c0>\u001b[0m in \u001b[0;36m<cell line: 6>\u001b[0;34m()\u001b[0m\n\u001b[1;32m      4\u001b[0m \u001b[0mselectdf1\u001b[0m \u001b[0;34m=\u001b[0m \u001b[0mdf1\u001b[0m\u001b[0;34m.\u001b[0m\u001b[0mselect\u001b[0m\u001b[0;34m(\u001b[0m\u001b[0;34m\"name\"\u001b[0m\u001b[0;34m,\u001b[0m \u001b[0;34m\"GPA\"\u001b[0m\u001b[0;34m)\u001b[0m\u001b[0;34m.\u001b[0m\u001b[0mshow\u001b[0m\u001b[0;34m(\u001b[0m\u001b[0;34m)\u001b[0m\u001b[0;34m\u001b[0m\u001b[0;34m\u001b[0m\u001b[0m\n\u001b[1;32m      5\u001b[0m \u001b[0;34m\u001b[0m\u001b[0m\n\u001b[0;32m----> 6\u001b[0;31m \u001b[0mselectdf1\u001b[0m\u001b[0;34m.\u001b[0m\u001b[0mprintSchema\u001b[0m\u001b[0;34m(\u001b[0m\u001b[0;34m)\u001b[0m\u001b[0;34m\u001b[0m\u001b[0;34m\u001b[0m\u001b[0m\n\u001b[0m\u001b[1;32m      7\u001b[0m \u001b[0;34m\u001b[0m\u001b[0m\n\u001b[1;32m      8\u001b[0m \u001b[0;34m\u001b[0m\u001b[0m\n",
            "\u001b[0;31mAttributeError\u001b[0m: 'NoneType' object has no attribute 'printSchema'"
          ]
        }
      ]
    },
    {
      "cell_type": "code",
      "source": [
        "#Select : Selecting the present column inside of the dataframe for processing\n",
        "#Return type of Dataframe\n",
        "smallDf = df.select(\"Language Name\",\"Days\").show()\n",
        "print(smallDf)"
      ],
      "metadata": {
        "colab": {
          "base_uri": "https://localhost:8080/"
        },
        "id": "lKZhIsptGT6D",
        "outputId": "eb2c55e7-40e3-4cd5-e435-23b1b072621d"
      },
      "execution_count": null,
      "outputs": [
        {
          "output_type": "stream",
          "name": "stdout",
          "text": [
            "+-------------+----+\n",
            "|Language Name|Days|\n",
            "+-------------+----+\n",
            "|        Spark|  50|\n",
            "|        Scala| 100|\n",
            "|          PHP| 120|\n",
            "+-------------+----+\n",
            "\n",
            "None\n"
          ]
        }
      ]
    },
    {
      "cell_type": "code",
      "source": [
        "#StructField and StructType : Defining the schema of a particular dataframe : here structype gives the basic \n",
        "#structure of the dataframe and structfield would define the fields inside of that structure\n",
        "import pyspark\n",
        "from pyspark.sql import SparkSession \n",
        "from pyspark.sql.types import StructField, StructType, StringType, IntegerType\n",
        "\n"
      ],
      "metadata": {
        "id": "XB0OLPYPvf8m"
      },
      "execution_count": 23,
      "outputs": []
    },
    {
      "cell_type": "code",
      "source": [
        "spark = SparkSession.builder.master([\"local[1]\"]).appName(\"pysaprkl1\").getOrCreate()\n",
        "\n",
        "d = [\n",
        "    (\"James\",\"\",\"Smith\",\"M\",30000),\n",
        "    (\"Micheal\",\"\",\"Rose\",\"F\",20000),\n",
        "    (\"Maria\", \"\", \"Anne\", \"F\",30000),\n",
        "    (\"rosy\", \"\", \"gelli\", \"F\", 40000),\n",
        "    (\"jack\", \"\",\"marey\", \"M\", None)\n",
        "]\n",
        "schema = StructType([\n",
        "    StructField(\"firstname\",StringType(),True),\n",
        "    StructField(\"middlename\",StringType(),True),\n",
        "    StructField(\"lastname\",StringType(),True),\n",
        "    StructField(\"gender\",StringType(),True),\n",
        "    StructField(\"salary\",IntegerType(),True)    #here true - means nullable  - can be null or not null, #false - nullable - cant be null       \n",
        "                     \n",
        "                     \n",
        "                     \n",
        "])\n",
        "\n",
        "df2 = spark.createDataFrame(data = d, schema = schema)\n",
        "df2.show()"
      ],
      "metadata": {
        "colab": {
          "base_uri": "https://localhost:8080/"
        },
        "id": "8ozPGIhWwSTx",
        "outputId": "86e98a08-beea-4af1-aba7-8ddde4159ae9"
      },
      "execution_count": 37,
      "outputs": [
        {
          "output_type": "stream",
          "name": "stdout",
          "text": [
            "+---------+----------+--------+------+------+\n",
            "|firstname|middlename|lastname|gender|salary|\n",
            "+---------+----------+--------+------+------+\n",
            "|    James|          |   Smith|     M| 30000|\n",
            "|  Micheal|          |    Rose|     F| 20000|\n",
            "|    Maria|          |    Anne|     F| 30000|\n",
            "|     rosy|          |   gelli|     F| 40000|\n",
            "|     jack|          |   marey|     M|  null|\n",
            "+---------+----------+--------+------+------+\n",
            "\n"
          ]
        }
      ]
    },
    {
      "cell_type": "code",
      "source": [
        "df2.printSchema()"
      ],
      "metadata": {
        "colab": {
          "base_uri": "https://localhost:8080/"
        },
        "id": "x9IKUaW516jk",
        "outputId": "4b07a1c3-fbe2-4b64-cb26-28e3573f3fae"
      },
      "execution_count": 38,
      "outputs": [
        {
          "output_type": "stream",
          "name": "stdout",
          "text": [
            "root\n",
            " |-- firstname: string (nullable = true)\n",
            " |-- middlename: string (nullable = true)\n",
            " |-- lastname: string (nullable = true)\n",
            " |-- gender: string (nullable = true)\n",
            " |-- salary: integer (nullable = true)\n",
            "\n"
          ]
        }
      ]
    },
    {
      "cell_type": "code",
      "source": [
        "#StructField and StructType : Defining the schema of a particular dataframe : here structype gives the basic \n",
        "#structure of the dataframe and structfield would define the fields inside of that structure\n",
        "import pyspark\n",
        "from pyspark.sql import SparkSession \n",
        "from pyspark.sql.types import StructField, StructType, StringType, IntegerType\n",
        "\n",
        "spark = SparkSession.builder.master([\"local[1]\"]).appName(\"PysparkL1\").getOrCreate()\n",
        "\n",
        "data = [\n",
        "    (\"James\",\"\",\"Smith\",\"M\",30000),\n",
        "    (\"Micheal\",\"\",\"Rose\",\"F\",20000),\n",
        "    (\"Maria\",\"\",\"Anne\",\"F\",30000)\n",
        "]\n",
        "\n",
        "schema = StructType([\n",
        "    StructField(\"firstname\",StringType(),True),\n",
        "    StructField(\"middlename\",StringType(),True),\n",
        "    StructField(\"lastname\",StringType(),True),\n",
        "    StructField(\"gender\",StringType(),True),\n",
        "    StructField(\"salary\",IntegerType(),True)\n",
        "])\n",
        "\n",
        "df = spark.createDataFrame(data = data, schema = schema)\n",
        "df.show()"
      ],
      "metadata": {
        "colab": {
          "base_uri": "https://localhost:8080/"
        },
        "id": "dgRqU-WxTSS1",
        "outputId": "454c9ab5-5250-4048-99f7-2722afd11434"
      },
      "execution_count": null,
      "outputs": [
        {
          "output_type": "stream",
          "name": "stdout",
          "text": [
            "+---------+----------+--------+------+------+\n",
            "|firstname|middlename|lastname|gender|salary|\n",
            "+---------+----------+--------+------+------+\n",
            "|    James|          |   Smith|     M| 30000|\n",
            "|  Micheal|          |    Rose|     F| 20000|\n",
            "|    Maria|          |    Anne|     F| 30000|\n",
            "+---------+----------+--------+------+------+\n",
            "\n"
          ]
        }
      ]
    },
    {
      "cell_type": "code",
      "source": [],
      "metadata": {
        "id": "Jkk2rfJ6wHPQ"
      },
      "execution_count": null,
      "outputs": []
    },
    {
      "cell_type": "code",
      "source": [
        "df.printSchema()"
      ],
      "metadata": {
        "colab": {
          "base_uri": "https://localhost:8080/"
        },
        "id": "q6m7ZT8YWoWO",
        "outputId": "51043030-b7d5-4423-efe1-08fd15fa4921"
      },
      "execution_count": null,
      "outputs": [
        {
          "output_type": "stream",
          "name": "stdout",
          "text": [
            "root\n",
            " |-- firstname: string (nullable = true)\n",
            " |-- middlename: string (nullable = true)\n",
            " |-- lastname: string (nullable = true)\n",
            " |-- gender: string (nullable = true)\n",
            " |-- salary: integer (nullable = true)\n",
            "\n"
          ]
        }
      ]
    },
    {
      "cell_type": "code",
      "source": [
        "#Nested : Structure of Data inside a Different Structure\n",
        "nestedStructure = StructType([\n",
        "    StructField(\"name\",StructType([\n",
        "        StructField(\"firstname\",StringType(),True),\n",
        "        StructField(\"lastname\",StringType(),True)\n",
        "    ])),\n",
        "    StructField(\"id\",StringType(),True),\n",
        "    StructField(\"gender\",StringType(),True),\n",
        "    StructField(\"salary\",IntegerType(),True)\n",
        "])\n",
        "\n",
        "\n",
        "nestedData = [\n",
        "    ((\"A\",\"Pyspark\"),\"1\",\"M\",180000),\n",
        "    ((\"B\",\"Pyspark\"),\"2\",\"M\",120000),\n",
        "    ((\"c\",\"Pyspark\"),\"3\",\"M\",130000),\n",
        "    ((\"D\",\"Pyspark\"),\"4\",\"M\",150000),\n",
        "    ((\"E\",\"Pyspark\"),\"5\",\"M\",170000)\n",
        "]\n",
        "\n",
        "df = spark.createDataFrame(data = nestedData, schema = nestedStructure)"
      ],
      "metadata": {
        "id": "E03BeMVKXA8z"
      },
      "execution_count": null,
      "outputs": []
    },
    {
      "cell_type": "code",
      "source": [
        "df.printSchema()"
      ],
      "metadata": {
        "colab": {
          "base_uri": "https://localhost:8080/"
        },
        "id": "u7Pqbi7-ZXCC",
        "outputId": "a9056bc0-542b-45dd-a448-5ee24a05af9d"
      },
      "execution_count": null,
      "outputs": [
        {
          "output_type": "stream",
          "name": "stdout",
          "text": [
            "root\n",
            " |-- name: struct (nullable = true)\n",
            " |    |-- firstname: string (nullable = true)\n",
            " |    |-- lastname: string (nullable = true)\n",
            " |-- id: string (nullable = true)\n",
            " |-- gender: string (nullable = true)\n",
            " |-- salary: integer (nullable = true)\n",
            "\n"
          ]
        }
      ]
    },
    {
      "cell_type": "code",
      "source": [
        "df.show()"
      ],
      "metadata": {
        "colab": {
          "base_uri": "https://localhost:8080/"
        },
        "id": "1LWoCAwWZmrC",
        "outputId": "85593ea3-77b3-4325-e013-41224580b910"
      },
      "execution_count": null,
      "outputs": [
        {
          "output_type": "stream",
          "name": "stdout",
          "text": [
            "+------------+---+------+------+\n",
            "|        name| id|gender|salary|\n",
            "+------------+---+------+------+\n",
            "|{A, Pyspark}|  1|     M|180000|\n",
            "|{B, Pyspark}|  2|     M|120000|\n",
            "|{c, Pyspark}|  3|     M|130000|\n",
            "|{D, Pyspark}|  4|     M|150000|\n",
            "|{E, Pyspark}|  5|     M|170000|\n",
            "+------------+---+------+------+\n",
            "\n"
          ]
        }
      ]
    },
    {
      "cell_type": "code",
      "source": [
        "from posix import truncate\n",
        "from os import name\n",
        "#Collect : Get the data from the dataframe\n",
        "dataCollect = df1.collect()\n",
        "print(dataCollect)\n",
        "\n",
        "\n",
        "for row in dataCollect:\n",
        "  print(row)    # how to get individual row?\n"
      ],
      "metadata": {
        "colab": {
          "base_uri": "https://localhost:8080/"
        },
        "id": "ZxgmqJ1ZZyBy",
        "outputId": "b7e6e016-9b85-4c0f-ca37-a00795f0d217"
      },
      "execution_count": 59,
      "outputs": [
        {
          "output_type": "stream",
          "name": "stdout",
          "text": [
            "[Row(name='kalpana', country='USA', GPA=3.2, edu='ASU', salary=100000), Row(name='deepak', country='USA', GPA=3.8, edu='ASU', salary=200000), Row(name='isha', country='india', GPA=20.0, edu='school', salary=1000), Row(name='diya', country='india', GPA=3.0, edu='school', salary=10000), Row(name='jack', country='china', GPA=9.1, edu='clg', salary=2900), Row(name='jame', country='nepal', GPA=9.4, edu='clg', salary=20000)]\n",
            "Row(name='kalpana', country='USA', GPA=3.2, edu='ASU', salary=100000)\n",
            "Row(name='deepak', country='USA', GPA=3.8, edu='ASU', salary=200000)\n",
            "Row(name='isha', country='india', GPA=20.0, edu='school', salary=1000)\n",
            "Row(name='diya', country='india', GPA=3.0, edu='school', salary=10000)\n",
            "Row(name='jack', country='china', GPA=9.1, edu='clg', salary=2900)\n",
            "Row(name='jame', country='nepal', GPA=9.4, edu='clg', salary=20000)\n"
          ]
        }
      ]
    },
    {
      "cell_type": "code",
      "source": [
        "[\n",
        " \n",
        " Row(name=Row(firstname='A', lastname='Pyspark'), id='1', gender='M', salary=180000), \n",
        " Row(name=Row(firstname='B', lastname='Pyspark'), id='2', gender='M', salary=120000), \n",
        " Row(name=Row(firstname='c', lastname='Pyspark'), id='3', gender='M', salary=130000), \n",
        " Row(name=Row(firstname='D', lastname='Pyspark'), id='4', gender='M', salary=150000), \n",
        " Row(name=Row(firstname='E', lastname='Pyspark'), id='5', gender='M', salary=170000)\n",
        "\n",
        "]"
      ],
      "metadata": {
        "id": "qlsHUS-raPQe"
      },
      "execution_count": null,
      "outputs": []
    },
    {
      "cell_type": "code",
      "source": [
        "for row in dataCollect:\n",
        "  #You can access the data of the particular row using index notation \n",
        "  #and by directly specifying the column name\n",
        "\n",
        "  print(row['salary'])"
      ],
      "metadata": {
        "colab": {
          "base_uri": "https://localhost:8080/"
        },
        "id": "3tL5VQe3ak7h",
        "outputId": "fbef60de-6a70-4ad8-efb8-cd46060873fb"
      },
      "execution_count": null,
      "outputs": [
        {
          "output_type": "stream",
          "name": "stdout",
          "text": [
            "1\n",
            "2\n",
            "3\n",
            "4\n",
            "5\n"
          ]
        }
      ]
    },
    {
      "cell_type": "code",
      "source": [
        "#withColumn : If you want to do some column level operations in that case you can use withColumn"
      ],
      "metadata": {
        "id": "gSBtU1IrbZ7D"
      },
      "execution_count": null,
      "outputs": []
    },
    {
      "cell_type": "code",
      "source": [
        "#1 : Changing the datatype of a particular column #cast : To change the datatype of a column from let's say Integer to String or from String to Int\n",
        "df1.printSchema()\n",
        "\n",
        "df2 = df1.withColumn(\"Grade\",F.col(\"GPA\").cast(\"String\"))\n",
        "\n",
        "df2.printSchema()\n",
        "\n",
        "df3 = df2.withColumn(\"Grade\",F.col(\"GPA\").cast(\"float\"))\n",
        "\n",
        "df3.printSchema()\n"
      ],
      "metadata": {
        "colab": {
          "base_uri": "https://localhost:8080/"
        },
        "id": "wUdniog_anX-",
        "outputId": "bc0b138c-e663-4871-ccfc-34eaed444ca8"
      },
      "execution_count": 62,
      "outputs": [
        {
          "output_type": "stream",
          "name": "stdout",
          "text": [
            "root\n",
            " |-- name: string (nullable = true)\n",
            " |-- country: string (nullable = true)\n",
            " |-- GPA: double (nullable = true)\n",
            " |-- edu: string (nullable = true)\n",
            " |-- salary: long (nullable = true)\n",
            "\n",
            "root\n",
            " |-- name: string (nullable = true)\n",
            " |-- country: string (nullable = true)\n",
            " |-- GPA: double (nullable = true)\n",
            " |-- edu: string (nullable = true)\n",
            " |-- salary: long (nullable = true)\n",
            " |-- Grade: string (nullable = true)\n",
            "\n",
            "root\n",
            " |-- name: string (nullable = true)\n",
            " |-- country: string (nullable = true)\n",
            " |-- GPA: double (nullable = true)\n",
            " |-- edu: string (nullable = true)\n",
            " |-- salary: long (nullable = true)\n",
            " |-- Grade: float (nullable = true)\n",
            "\n"
          ]
        }
      ]
    },
    {
      "cell_type": "code",
      "source": [
        "df3.show()"
      ],
      "metadata": {
        "colab": {
          "base_uri": "https://localhost:8080/"
        },
        "id": "VV2jhke56F8t",
        "outputId": "0ff04fa9-9341-45de-cee7-8b7526cd612b"
      },
      "execution_count": 63,
      "outputs": [
        {
          "output_type": "stream",
          "name": "stdout",
          "text": [
            "+-------+-------+----+------+------+-----+\n",
            "|   name|country| GPA|   edu|salary|Grade|\n",
            "+-------+-------+----+------+------+-----+\n",
            "|kalpana|    USA| 3.2|   ASU|100000|  3.2|\n",
            "| deepak|    USA| 3.8|   ASU|200000|  3.8|\n",
            "|   isha|  india|20.0|school|  1000| 20.0|\n",
            "|   diya|  india| 3.0|school| 10000|  3.0|\n",
            "|   jack|  china| 9.1|   clg|  2900|  9.1|\n",
            "|   jame|  nepal| 9.4|   clg| 20000|  9.4|\n",
            "+-------+-------+----+------+------+-----+\n",
            "\n"
          ]
        }
      ]
    },
    {
      "cell_type": "code",
      "source": [
        "#2. Update the value of existing column\n",
        "df3.show()\n",
        "\n",
        "df4 = df3.withColumn(\"salary_double\", F.col(\"salary\") * 20)\n",
        "\n",
        "#df4 = df3.withColumn(\"salary_divided\", F.col(\"salary\") / 20)\n",
        "\n",
        "df4.show()\n",
        "\n",
        "df4.printSchema()\n",
        "\n",
        "##df = df.withColumn(\"salary\",F.col(\"salary\") * 10)\n",
        "\n",
        "#df.show()"
      ],
      "metadata": {
        "colab": {
          "base_uri": "https://localhost:8080/"
        },
        "id": "MpDjdTzxb6gE",
        "outputId": "82331b45-590c-447b-fd57-b19d438ce00f"
      },
      "execution_count": 71,
      "outputs": [
        {
          "output_type": "stream",
          "name": "stdout",
          "text": [
            "+-------+-------+----+------+------+-----+\n",
            "|   name|country| GPA|   edu|salary|Grade|\n",
            "+-------+-------+----+------+------+-----+\n",
            "|kalpana|    USA| 3.2|   ASU|100000|  3.2|\n",
            "| deepak|    USA| 3.8|   ASU|200000|  3.8|\n",
            "|   isha|  india|20.0|school|  1000| 20.0|\n",
            "|   diya|  india| 3.0|school| 10000|  3.0|\n",
            "|   jack|  china| 9.1|   clg|  2900|  9.1|\n",
            "|   jame|  nepal| 9.4|   clg| 20000|  9.4|\n",
            "+-------+-------+----+------+------+-----+\n",
            "\n",
            "+-------+-------+----+------+------+-----+-------------+\n",
            "|   name|country| GPA|   edu|salary|Grade|salary_double|\n",
            "+-------+-------+----+------+------+-----+-------------+\n",
            "|kalpana|    USA| 3.2|   ASU|100000|  3.2|      2000000|\n",
            "| deepak|    USA| 3.8|   ASU|200000|  3.8|      4000000|\n",
            "|   isha|  india|20.0|school|  1000| 20.0|        20000|\n",
            "|   diya|  india| 3.0|school| 10000|  3.0|       200000|\n",
            "|   jack|  china| 9.1|   clg|  2900|  9.1|        58000|\n",
            "|   jame|  nepal| 9.4|   clg| 20000|  9.4|       400000|\n",
            "+-------+-------+----+------+------+-----+-------------+\n",
            "\n",
            "root\n",
            " |-- name: string (nullable = true)\n",
            " |-- country: string (nullable = true)\n",
            " |-- GPA: double (nullable = true)\n",
            " |-- edu: string (nullable = true)\n",
            " |-- salary: long (nullable = true)\n",
            " |-- Grade: float (nullable = true)\n",
            " |-- salary_double: long (nullable = true)\n",
            "\n"
          ]
        }
      ]
    },
    {
      "cell_type": "code",
      "source": [
        "#3. If you want to create a new column from existing values\n",
        "df.show()\n",
        "df.printSchema()\n",
        "\n",
        "df = df.withColumn(\"salary_copied\",F.col(\"salary\") * -1)\n",
        "\n",
        "df.show()\n",
        "df.printSchema()"
      ],
      "metadata": {
        "colab": {
          "base_uri": "https://localhost:8080/"
        },
        "id": "gahC1jQidl_n",
        "outputId": "8b8f5433-ed0b-4701-9e78-c1f90f384cd4"
      },
      "execution_count": null,
      "outputs": [
        {
          "output_type": "stream",
          "name": "stdout",
          "text": [
            "+------------+---+------+-------+\n",
            "|        name| id|gender| salary|\n",
            "+------------+---+------+-------+\n",
            "|{A, Pyspark}|  1|     M|1800000|\n",
            "|{B, Pyspark}|  2|     M|1200000|\n",
            "|{c, Pyspark}|  3|     M|1300000|\n",
            "|{D, Pyspark}|  4|     M|1500000|\n",
            "|{E, Pyspark}|  5|     M|1700000|\n",
            "+------------+---+------+-------+\n",
            "\n",
            "root\n",
            " |-- name: struct (nullable = true)\n",
            " |    |-- firstname: string (nullable = true)\n",
            " |    |-- lastname: string (nullable = true)\n",
            " |-- id: string (nullable = true)\n",
            " |-- gender: string (nullable = true)\n",
            " |-- salary: integer (nullable = true)\n",
            "\n",
            "+------------+---+------+-------+-------------+\n",
            "|        name| id|gender| salary|salary_copied|\n",
            "+------------+---+------+-------+-------------+\n",
            "|{A, Pyspark}|  1|     M|1800000|     -1800000|\n",
            "|{B, Pyspark}|  2|     M|1200000|     -1200000|\n",
            "|{c, Pyspark}|  3|     M|1300000|     -1300000|\n",
            "|{D, Pyspark}|  4|     M|1500000|     -1500000|\n",
            "|{E, Pyspark}|  5|     M|1700000|     -1700000|\n",
            "+------------+---+------+-------+-------------+\n",
            "\n",
            "root\n",
            " |-- name: struct (nullable = true)\n",
            " |    |-- firstname: string (nullable = true)\n",
            " |    |-- lastname: string (nullable = true)\n",
            " |-- id: string (nullable = true)\n",
            " |-- gender: string (nullable = true)\n",
            " |-- salary: integer (nullable = true)\n",
            " |-- salary_copied: integer (nullable = true)\n",
            "\n"
          ]
        }
      ]
    },
    {
      "cell_type": "code",
      "source": [],
      "metadata": {
        "id": "xQruSKZYe0pI"
      },
      "execution_count": null,
      "outputs": []
    }
  ]
}